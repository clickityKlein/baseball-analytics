{
 "cells": [
  {
   "cell_type": "markdown",
   "id": "7d551885",
   "metadata": {},
   "source": [
    "# Formulas"
   ]
  },
  {
   "cell_type": "markdown",
   "id": "c7cc8b96",
   "metadata": {},
   "source": [
    "## SSE (Sum Squared Error)"
   ]
  },
  {
   "cell_type": "markdown",
   "id": "49f0ee9e",
   "metadata": {},
   "source": [
    "$$SSE = \\sum\\limits_{i=1}^{n} (y_i - \\hat{y_i})^2$$"
   ]
  },
  {
   "cell_type": "markdown",
   "id": "2160a034",
   "metadata": {},
   "source": [
    "$SSE$ is a measure of how much variation is left unexplained by the model, where:\n",
    "\n",
    "- $y_i$: actual/observed value\n",
    "- $\\hat{y_i}$: predicted value"
   ]
  },
  {
   "cell_type": "markdown",
   "id": "7989e259",
   "metadata": {},
   "source": [
    "## SST (Total Sum of Squares)"
   ]
  },
  {
   "cell_type": "markdown",
   "id": "04d1aa4a",
   "metadata": {},
   "source": [
    "$$SST = \\sum\\limits_{i=1}^{n} (\\hat{y_i} - \\bar{y})^2$$"
   ]
  },
  {
   "cell_type": "markdown",
   "id": "e9e12db6",
   "metadata": {},
   "source": [
    "$SST$ represents the total amount of variation in observed values (what we would get if we used the mean of the data as our model), where:\n",
    "\n",
    "- $\\hat{y_i}$: predicted value\n",
    "- $\\bar{y_i}$: mean of the actual/observed values"
   ]
  },
  {
   "cell_type": "markdown",
   "id": "1bfbf90f",
   "metadata": {},
   "source": [
    "## $R^2$"
   ]
  },
  {
   "cell_type": "markdown",
   "id": "547f7ab1",
   "metadata": {},
   "source": [
    "$$R^2 = 1 - \\frac{SSE}{SST}$$"
   ]
  },
  {
   "cell_type": "markdown",
   "id": "5f14179c",
   "metadata": {},
   "source": [
    "$R^2$ is the proportion of variance that can be explained by the model, and can be used as an indicator of goodness of fit for simple linear regression (SLR) models."
   ]
  },
  {
   "cell_type": "markdown",
   "id": "59267db8",
   "metadata": {},
   "source": [
    "## $R^2_a$ (Adjusted $R^2$)"
   ]
  },
  {
   "cell_type": "markdown",
   "id": "0e2648cd",
   "metadata": {},
   "source": [
    "$$R^2_a = 1 - \\frac{SSE/(n-p-1)}{SST/(n-1)}$$"
   ]
  },
  {
   "cell_type": "markdown",
   "id": "ecf8070f",
   "metadata": {},
   "source": [
    "$R^2_a$ is a better indicator of goodness for multiple linear regression (MLR) models over the normal $R^2$ as it penalizes for having too many features that are not reducing $SSE$, where:\n",
    "\n",
    "- n: number of observations\n",
    "- p: number of features"
   ]
  },
  {
   "cell_type": "markdown",
   "id": "11eaf73e",
   "metadata": {},
   "source": [
    "## MSPE (Mean Squared Prediction Error)"
   ]
  },
  {
   "cell_type": "markdown",
   "id": "90fbaa8e",
   "metadata": {},
   "source": [
    "$$MSPE = \\frac{1}{n}\\sum^n_{i=1} (y_i - \\hat{y_i})^2$$"
   ]
  },
  {
   "cell_type": "markdown",
   "id": "0f23434b",
   "metadata": {},
   "source": [
    "$MSPE$ quantifies the discrepancy between the predicted values and the observed value, and can help to evalute the performance of a model."
   ]
  },
  {
   "cell_type": "markdown",
   "id": "5e530ffa",
   "metadata": {},
   "source": [
    "## AIC (Akaike Information Criteria)"
   ]
  },
  {
   "cell_type": "markdown",
   "id": "a7a5b021",
   "metadata": {},
   "source": [
    "$$AIC = 2(p+1) - 2\\log(\\frac{SSE}{n})$$"
   ]
  },
  {
   "cell_type": "markdown",
   "id": "8e7e859a",
   "metadata": {},
   "source": [
    "$AIC$ estimates the relative amount of information that is lost by a given model in effort to minimize the information that's lost."
   ]
  },
  {
   "cell_type": "markdown",
   "id": "719ad4de",
   "metadata": {},
   "source": [
    "## BIC (Bayesian Information Criteria)"
   ]
  },
  {
   "cell_type": "markdown",
   "id": "29778d4c",
   "metadata": {},
   "source": [
    "$$BIC = (p+1)log(n) - 2logL(\\hat{\\beta})$$"
   ]
  },
  {
   "cell_type": "markdown",
   "id": "7a1ce375",
   "metadata": {},
   "source": [
    "$BIC$ is similar estimate to $AIC$ with slightly different parameters, where\n",
    "\n",
    "- $logL(\\hat{\\beta})$ is the log likelihood function"
   ]
  },
  {
   "cell_type": "markdown",
   "id": "ff99cd86",
   "metadata": {},
   "source": [
    "---"
   ]
  },
  {
   "cell_type": "markdown",
   "id": "9331f887",
   "metadata": {},
   "source": [
    "# Hypothesis Tests"
   ]
  },
  {
   "cell_type": "markdown",
   "id": "c89f0285",
   "metadata": {},
   "source": [
    "## t-test"
   ]
  },
  {
   "cell_type": "markdown",
   "id": "dc8053f9",
   "metadata": {},
   "source": [
    "- $H_0$: $\\beta_j = c$\n",
    "- $H_A$: $\\beta_j \\neq c$\n",
    "\n",
    "$c \\in \\mathbb{R}$\n",
    "\n",
    "We'll assume $c=0$ for our purposes"
   ]
  },
  {
   "cell_type": "markdown",
   "id": "88892b16",
   "metadata": {},
   "source": [
    "Used in finding if a feature has an effect on the response. In the case of a small enough p-value, we can reject the null hypothesis in favor of the alternative hypothesis which means there is statistical evidence that the associated feature (variable) has an effect on the response variable."
   ]
  },
  {
   "cell_type": "markdown",
   "id": "0a378760",
   "metadata": {},
   "source": [
    "## Chi-squared Test"
   ]
  },
  {
   "cell_type": "markdown",
   "id": "e52fb121",
   "metadata": {},
   "source": [
    "- $H_0$: the model is not useful (the model with no predictors, null model, is as good as the model with predictors - i.e. the predictors do not improve the model fit)\n",
    "- $H_A$: the model is useful (the model with predictors provides a better fit)"
   ]
  },
  {
   "cell_type": "markdown",
   "id": "f34a8e82",
   "metadata": {},
   "source": [
    "Compares the null deviance to the residual deviance in generalized linear models. A small enough p-value suggests strong evidence against the null hypothesis that the model with no predictors (null model) is as good as the model with predictors (full model). In other words, the predictors significantly improve the model fit."
   ]
  },
  {
   "cell_type": "markdown",
   "id": "c8ff71f0",
   "metadata": {},
   "source": [
    "## Partial F-test"
   ]
  },
  {
   "cell_type": "markdown",
   "id": "f0a72a2e",
   "metadata": {},
   "source": [
    "Given a full model ($\\Omega$) and a reduced model ($\\omega$),\n",
    "\n",
    "- $H_0$: $\\beta_j = 0$, $\\forall j \\notin \\omega$ but in $\\Omega$ (the reduced model is sufficient)\n",
    "- $H_A$: $\\beta_j \\neq 0$ for at least one of $j \\notin \\omega$ but in $\\Omega$ (the reduced model is not sufficient)"
   ]
  },
  {
   "cell_type": "markdown",
   "id": "79f6e475",
   "metadata": {},
   "source": [
    "When there is a small enough p-value, this suggests that the reduced is not sufficient. Used in testing reduced models against full models."
   ]
  },
  {
   "cell_type": "markdown",
   "id": "a78a209d",
   "metadata": {},
   "source": [
    "## Full F-test"
   ]
  },
  {
   "cell_type": "markdown",
   "id": "10407ae7",
   "metadata": {},
   "source": [
    "- $H_0$: $y_i = \\beta_0 + \\epsilon_i$ (i.e. $\\beta_1 = \\beta_2 = \\dots = \\beta_p = 0$)\n",
    "- $H_A$: $\\beta_k \\neq 0$ for at least one value in $k \\in \\{1, \\dots, p\\}$"
   ]
  },
  {
   "cell_type": "markdown",
   "id": "0f7cc0f3",
   "metadata": {},
   "source": [
    "The null hypothesis essentially states that there is no useful linear relationship between the response and any of the predictors. A small enough p-value suggests strong evidence against the null hypothesis, or in other words the model is better than the most reduced model possible. Useful in multiple linear regression (MLR) where the individual t-tests suggesting evidence against the null hypothesis may result in type I errors."
   ]
  },
  {
   "cell_type": "markdown",
   "id": "78b727cf",
   "metadata": {},
   "source": [
    "---"
   ]
  },
  {
   "cell_type": "markdown",
   "id": "af772500",
   "metadata": {},
   "source": [
    "# Models"
   ]
  },
  {
   "cell_type": "markdown",
   "id": "da4621ac",
   "metadata": {},
   "source": [
    "## Generalized Linear Model (GLM)"
   ]
  },
  {
   "cell_type": "markdown",
   "id": "4247651a",
   "metadata": {},
   "source": [
    "A GLM has three components:\n",
    "\n",
    "- Random Component\n",
    "- Systematic Component\n",
    "- Link Function\n",
    "\n",
    "In our case, we'll be using $GLM$ for logistic regression."
   ]
  },
  {
   "cell_type": "markdown",
   "id": "e3d5779d",
   "metadata": {},
   "source": [
    "## Multiple Linear Regression (MLR)"
   ]
  },
  {
   "cell_type": "markdown",
   "id": "8bea3777",
   "metadata": {},
   "source": [
    "$y = \\beta_0 + \\beta_1 x_1 + \\dots + \\beta_p x_p$"
   ]
  },
  {
   "cell_type": "markdown",
   "id": "b097c370",
   "metadata": {},
   "source": [
    "## Simple Linear Regression (SLR)"
   ]
  },
  {
   "cell_type": "markdown",
   "id": "26375d47",
   "metadata": {},
   "source": [
    "$y = \\beta_0 + \\beta_1 x_1$"
   ]
  }
 ],
 "metadata": {
  "kernelspec": {
   "display_name": "R",
   "language": "R",
   "name": "ir"
  },
  "language_info": {
   "codemirror_mode": "r",
   "file_extension": ".r",
   "mimetype": "text/x-r-source",
   "name": "R",
   "pygments_lexer": "r",
   "version": "4.3.1"
  }
 },
 "nbformat": 4,
 "nbformat_minor": 5
}
